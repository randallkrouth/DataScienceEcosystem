{
 "cells": [
  {
   "cell_type": "markdown",
   "id": "1b6df18a-3688-4678-8500-ee8da7d51444",
   "metadata": {},
   "source": [
    "<h1>Data Science Tools and Ecosystem</h1>"
   ]
  },
  {
   "cell_type": "markdown",
   "id": "1e8a46a1-0637-4447-a46a-2a3299f287e7",
   "metadata": {},
   "source": [
    "In this notebook, Data Science Tools and Ecosystem are summarized."
   ]
  },
  {
   "cell_type": "markdown",
   "id": "ecb66b7a-87e6-4107-8bbc-5f3ad21a3660",
   "metadata": {},
   "source": [
    "Some of the popular languages that Data Scientists use are:\n",
    "<ol>\n",
    "    <li>Python</li>\n",
    "    <li>R</li>\n",
    "    <li>SQL</li>\n",
    "</ol>"
   ]
  },
  {
   "cell_type": "markdown",
   "id": "2b4b8129-ea3b-438a-8ce0-fc1af8969bff",
   "metadata": {},
   "source": [
    "Some of the commonly used libraries used by Data Scientists include:\n",
    "<ol>\n",
    "    <li>Pandas</li>\n",
    "    <li>NumPy</li>\n",
    "    <li>Matplotlib</li>\n",
    "</ol>"
   ]
  },
  {
   "cell_type": "markdown",
   "id": "ba767ad2-a820-420b-8151-afe152be761f",
   "metadata": {},
   "source": [
    "| Data Science Tools |\n",
    "|-----------|\n",
    "| Jupyter Notebook |\n",
    "| RStudio |\n",
    "| Apache Zeppelin |"
   ]
  },
  {
   "cell_type": "markdown",
   "id": "6a768d73-ea65-4ceb-9acb-1aa980af6e08",
   "metadata": {},
   "source": [
    "<h3>Below are a few examples of evaluating arithmetic expressions in Python</h3>"
   ]
  },
  {
   "cell_type": "code",
   "execution_count": 4,
   "id": "dbb15595-a6cc-48c2-82a6-7f3322b0b207",
   "metadata": {},
   "outputs": [
    {
     "data": {
      "text/plain": [
       "17"
      ]
     },
     "execution_count": 4,
     "metadata": {},
     "output_type": "execute_result"
    }
   ],
   "source": [
    "# This a simple arithmetic expression to mutiply then add integers\n",
    "(3*4)+5"
   ]
  },
  {
   "cell_type": "code",
   "execution_count": 5,
   "id": "ec802fb0-9f46-4e38-a140-e9ff8e9edb22",
   "metadata": {},
   "outputs": [
    {
     "data": {
      "text/plain": [
       "3.3333333333333335"
      ]
     },
     "execution_count": 5,
     "metadata": {},
     "output_type": "execute_result"
    }
   ],
   "source": [
    "# This will convert 200 minutes to hours by diving by 60\n",
    "200 / 60"
   ]
  },
  {
   "cell_type": "markdown",
   "id": "c7284d96-814f-4c38-a2ae-6caa259b2f28",
   "metadata": {},
   "source": [
    "<b>Objectives</b>\n",
    "- Learn popular languages used by Data Scientists\n",
    "- Introduction to commonly used libraries\n",
    "- Introduction to commonly used tools\n",
    "- Introduction to commonly used APIs\n",
    "- Introduction to the use of machine learning models and predictive analytics"
   ]
  },
  {
   "cell_type": "markdown",
   "id": "f003e9ae-c0c8-4e3d-8553-5d4ce13a9134",
   "metadata": {},
   "source": [
    "<h2>Author: </h2>\n",
    "Randall Krouth"
   ]
  },
  {
   "cell_type": "code",
   "execution_count": null,
   "id": "3cf6e1c0-60e3-4bdb-97e6-76649c95526d",
   "metadata": {},
   "outputs": [],
   "source": []
  }
 ],
 "metadata": {
  "kernelspec": {
   "display_name": "Python 3 (ipykernel)",
   "language": "python",
   "name": "python3"
  },
  "language_info": {
   "codemirror_mode": {
    "name": "ipython",
    "version": 3
   },
   "file_extension": ".py",
   "mimetype": "text/x-python",
   "name": "python",
   "nbconvert_exporter": "python",
   "pygments_lexer": "ipython3",
   "version": "3.10.13"
  }
 },
 "nbformat": 4,
 "nbformat_minor": 5
}
